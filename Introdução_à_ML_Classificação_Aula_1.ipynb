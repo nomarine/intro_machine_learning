{
  "nbformat": 4,
  "nbformat_minor": 0,
  "metadata": {
    "colab": {
      "provenance": [],
      "authorship_tag": "ABX9TyMrOnUh7a0WyGy3GXpGXvgB",
      "include_colab_link": true
    },
    "kernelspec": {
      "name": "python3",
      "display_name": "Python 3"
    },
    "language_info": {
      "name": "python"
    }
  },
  "cells": [
    {
      "cell_type": "markdown",
      "metadata": {
        "id": "view-in-github",
        "colab_type": "text"
      },
      "source": [
        "<a href=\"https://colab.research.google.com/github/nomarine/intro_machine_learning/blob/main/Introdu%C3%A7%C3%A3o_%C3%A0_ML_Classifica%C3%A7%C3%A3o_Aula_1.ipynb\" target=\"_parent\"><img src=\"https://colab.research.google.com/assets/colab-badge.svg\" alt=\"Open In Colab\"/></a>"
      ]
    },
    {
      "cell_type": "markdown",
      "source": [
        "#Amostras\n",
        "Características: Pelo longo? Perna curta? Faz au au?\n",
        "Classificação: Cachorro = 0 x Porco = 1"
      ],
      "metadata": {
        "id": "Q0Gb7B2KzGhF"
      }
    },
    {
      "cell_type": "code",
      "execution_count": null,
      "metadata": {
        "id": "ydEAIn0UukZR"
      },
      "outputs": [],
      "source": [
        "porco1 = [0,1,0]\n",
        "porco2 = [1,1,0]\n",
        "porco3 = [0,1,1]\n",
        "cachorro1 = [1,0,1]\n",
        "cachorro2 = [0,1,1]\n",
        "cachorro3 = [1,0,1]\n",
        "\n",
        "train_x = [porco1, porco2, porco3, cachorro1, cachorro2, cachorro3]\n",
        "train_y = [1,1,1,0,0,0]"
      ]
    },
    {
      "cell_type": "code",
      "source": [
        "from sklearn.svm import LinearSVC\n",
        "\n",
        "model = LinearSVC()\n",
        "model.fit(train_x, train_y)\n",
        "\n",
        "animal_misterioso = [0,0,1]\n",
        "model.predict([animal_misterioso])"
      ],
      "metadata": {
        "colab": {
          "base_uri": "https://localhost:8080/"
        },
        "id": "w8Vw_Dex0d3F",
        "outputId": "a2dc7fd8-e3c1-47ee-a0e6-672d388e9218"
      },
      "execution_count": null,
      "outputs": [
        {
          "output_type": "execute_result",
          "data": {
            "text/plain": [
              "array([0])"
            ]
          },
          "metadata": {},
          "execution_count": 2
        }
      ]
    },
    {
      "cell_type": "code",
      "source": [
        "teste1 = [1,1,1]\n",
        "teste2 = [0,1,0]\n",
        "teste3 = [1,1,0]\n",
        "teste4 = [0,0,0]\n",
        "teste5 = [1,0,0]\n",
        "teste6 = [1,0,1]\n",
        "\n",
        "test_x = [teste1,teste2,teste3,teste4,teste5,teste6]\n",
        "test_y = [1,1,1,0,0,0]\n",
        "resultado_previsao = model.predict(test_x)\n",
        "print(resultado_previsao)\n",
        "test_y == resultado_previsao"
      ],
      "metadata": {
        "colab": {
          "base_uri": "https://localhost:8080/"
        },
        "id": "BeEy9gLg1L2b",
        "outputId": "1268e414-4bb2-4aa1-fc63-a960d8bdc985"
      },
      "execution_count": null,
      "outputs": [
        {
          "output_type": "stream",
          "name": "stdout",
          "text": [
            "[0 1 1 1 0 0]\n"
          ]
        },
        {
          "output_type": "execute_result",
          "data": {
            "text/plain": [
              "array([False,  True,  True, False,  True,  True])"
            ]
          },
          "metadata": {},
          "execution_count": 3
        }
      ]
    },
    {
      "cell_type": "code",
      "source": [
        "from sklearn.metrics import accuracy_score\n",
        "\n",
        "acuracia = accuracy_score(resultado_previsao, test_y)\n",
        "print(\"Taxa de acertos: %.2f\" %(acuracia * 100))"
      ],
      "metadata": {
        "colab": {
          "base_uri": "https://localhost:8080/"
        },
        "id": "0M90DzK03D1k",
        "outputId": "208dbee2-04df-4a6e-80dc-fdaa3d292a05"
      },
      "execution_count": null,
      "outputs": [
        {
          "output_type": "stream",
          "name": "stdout",
          "text": [
            "Taxa de acertos: 66.67\n"
          ]
        }
      ]
    }
  ]
}