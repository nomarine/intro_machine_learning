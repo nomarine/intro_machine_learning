{
  "nbformat": 4,
  "nbformat_minor": 0,
  "metadata": {
    "colab": {
      "provenance": [],
      "authorship_tag": "ABX9TyMx+bHE+LwaXzgj/0EIGlBT",
      "include_colab_link": true
    },
    "kernelspec": {
      "name": "python3",
      "display_name": "Python 3"
    },
    "language_info": {
      "name": "python"
    }
  },
  "cells": [
    {
      "cell_type": "markdown",
      "metadata": {
        "id": "view-in-github",
        "colab_type": "text"
      },
      "source": [
        "<a href=\"https://colab.research.google.com/github/nomarine/intro_machine_learning/blob/main/Introdu%C3%A7%C3%A3o_%C3%A0_ML_Classifica%C3%A7%C3%A3o_Aula_4.ipynb\" target=\"_parent\"><img src=\"https://colab.research.google.com/assets/colab-badge.svg\" alt=\"Open In Colab\"/></a>"
      ]
    },
    {
      "cell_type": "code",
      "source": [
        "!pip install graphviz==0.10\n",
        "!apt-get install graphviz"
      ],
      "metadata": {
        "colab": {
          "base_uri": "https://localhost:8080/"
        },
        "id": "I-yoELf4z7fT",
        "outputId": "b2c9f024-b37b-4aa2-9a8e-b5958855041e"
      },
      "execution_count": null,
      "outputs": [
        {
          "output_type": "stream",
          "name": "stdout",
          "text": [
            "Requirement already satisfied: graphviz==0.10 in /usr/local/lib/python3.10/dist-packages (0.10)\n",
            "Reading package lists... Done\n",
            "Building dependency tree... Done\n",
            "Reading state information... Done\n",
            "graphviz is already the newest version (2.42.2-6).\n",
            "0 upgraded, 0 newly installed, 0 to remove and 45 not upgraded.\n"
          ]
        }
      ]
    },
    {
      "cell_type": "code",
      "execution_count": null,
      "metadata": {
        "colab": {
          "base_uri": "https://localhost:8080/",
          "height": 206
        },
        "id": "yO5-SxK12E_4",
        "outputId": "9cd31b9e-d510-4eb7-9e47-15a938320e97"
      },
      "outputs": [
        {
          "output_type": "execute_result",
          "data": {
            "text/plain": [
              "       preco  vendido  idade_modelo   km_por_ano\n",
              "0   30941.02        1            24  35085.22134\n",
              "1   40557.96        1            26  12622.05362\n",
              "2   89627.50        0            18  11440.79806\n",
              "3   95276.14        0             9  43167.32682\n",
              "4  117384.68        1            10  12770.11290"
            ],
            "text/html": [
              "\n",
              "  <div id=\"df-54548bbb-412b-407e-8e72-59e1174062fa\" class=\"colab-df-container\">\n",
              "    <div>\n",
              "<style scoped>\n",
              "    .dataframe tbody tr th:only-of-type {\n",
              "        vertical-align: middle;\n",
              "    }\n",
              "\n",
              "    .dataframe tbody tr th {\n",
              "        vertical-align: top;\n",
              "    }\n",
              "\n",
              "    .dataframe thead th {\n",
              "        text-align: right;\n",
              "    }\n",
              "</style>\n",
              "<table border=\"1\" class=\"dataframe\">\n",
              "  <thead>\n",
              "    <tr style=\"text-align: right;\">\n",
              "      <th></th>\n",
              "      <th>preco</th>\n",
              "      <th>vendido</th>\n",
              "      <th>idade_modelo</th>\n",
              "      <th>km_por_ano</th>\n",
              "    </tr>\n",
              "  </thead>\n",
              "  <tbody>\n",
              "    <tr>\n",
              "      <th>0</th>\n",
              "      <td>30941.02</td>\n",
              "      <td>1</td>\n",
              "      <td>24</td>\n",
              "      <td>35085.22134</td>\n",
              "    </tr>\n",
              "    <tr>\n",
              "      <th>1</th>\n",
              "      <td>40557.96</td>\n",
              "      <td>1</td>\n",
              "      <td>26</td>\n",
              "      <td>12622.05362</td>\n",
              "    </tr>\n",
              "    <tr>\n",
              "      <th>2</th>\n",
              "      <td>89627.50</td>\n",
              "      <td>0</td>\n",
              "      <td>18</td>\n",
              "      <td>11440.79806</td>\n",
              "    </tr>\n",
              "    <tr>\n",
              "      <th>3</th>\n",
              "      <td>95276.14</td>\n",
              "      <td>0</td>\n",
              "      <td>9</td>\n",
              "      <td>43167.32682</td>\n",
              "    </tr>\n",
              "    <tr>\n",
              "      <th>4</th>\n",
              "      <td>117384.68</td>\n",
              "      <td>1</td>\n",
              "      <td>10</td>\n",
              "      <td>12770.11290</td>\n",
              "    </tr>\n",
              "  </tbody>\n",
              "</table>\n",
              "</div>\n",
              "    <div class=\"colab-df-buttons\">\n",
              "\n",
              "  <div class=\"colab-df-container\">\n",
              "    <button class=\"colab-df-convert\" onclick=\"convertToInteractive('df-54548bbb-412b-407e-8e72-59e1174062fa')\"\n",
              "            title=\"Convert this dataframe to an interactive table.\"\n",
              "            style=\"display:none;\">\n",
              "\n",
              "  <svg xmlns=\"http://www.w3.org/2000/svg\" height=\"24px\" viewBox=\"0 -960 960 960\">\n",
              "    <path d=\"M120-120v-720h720v720H120Zm60-500h600v-160H180v160Zm220 220h160v-160H400v160Zm0 220h160v-160H400v160ZM180-400h160v-160H180v160Zm440 0h160v-160H620v160ZM180-180h160v-160H180v160Zm440 0h160v-160H620v160Z\"/>\n",
              "  </svg>\n",
              "    </button>\n",
              "\n",
              "  <style>\n",
              "    .colab-df-container {\n",
              "      display:flex;\n",
              "      gap: 12px;\n",
              "    }\n",
              "\n",
              "    .colab-df-convert {\n",
              "      background-color: #E8F0FE;\n",
              "      border: none;\n",
              "      border-radius: 50%;\n",
              "      cursor: pointer;\n",
              "      display: none;\n",
              "      fill: #1967D2;\n",
              "      height: 32px;\n",
              "      padding: 0 0 0 0;\n",
              "      width: 32px;\n",
              "    }\n",
              "\n",
              "    .colab-df-convert:hover {\n",
              "      background-color: #E2EBFA;\n",
              "      box-shadow: 0px 1px 2px rgba(60, 64, 67, 0.3), 0px 1px 3px 1px rgba(60, 64, 67, 0.15);\n",
              "      fill: #174EA6;\n",
              "    }\n",
              "\n",
              "    .colab-df-buttons div {\n",
              "      margin-bottom: 4px;\n",
              "    }\n",
              "\n",
              "    [theme=dark] .colab-df-convert {\n",
              "      background-color: #3B4455;\n",
              "      fill: #D2E3FC;\n",
              "    }\n",
              "\n",
              "    [theme=dark] .colab-df-convert:hover {\n",
              "      background-color: #434B5C;\n",
              "      box-shadow: 0px 1px 3px 1px rgba(0, 0, 0, 0.15);\n",
              "      filter: drop-shadow(0px 1px 2px rgba(0, 0, 0, 0.3));\n",
              "      fill: #FFFFFF;\n",
              "    }\n",
              "  </style>\n",
              "\n",
              "    <script>\n",
              "      const buttonEl =\n",
              "        document.querySelector('#df-54548bbb-412b-407e-8e72-59e1174062fa button.colab-df-convert');\n",
              "      buttonEl.style.display =\n",
              "        google.colab.kernel.accessAllowed ? 'block' : 'none';\n",
              "\n",
              "      async function convertToInteractive(key) {\n",
              "        const element = document.querySelector('#df-54548bbb-412b-407e-8e72-59e1174062fa');\n",
              "        const dataTable =\n",
              "          await google.colab.kernel.invokeFunction('convertToInteractive',\n",
              "                                                    [key], {});\n",
              "        if (!dataTable) return;\n",
              "\n",
              "        const docLinkHtml = 'Like what you see? Visit the ' +\n",
              "          '<a target=\"_blank\" href=https://colab.research.google.com/notebooks/data_table.ipynb>data table notebook</a>'\n",
              "          + ' to learn more about interactive tables.';\n",
              "        element.innerHTML = '';\n",
              "        dataTable['output_type'] = 'display_data';\n",
              "        await google.colab.output.renderOutput(dataTable, element);\n",
              "        const docLink = document.createElement('div');\n",
              "        docLink.innerHTML = docLinkHtml;\n",
              "        element.appendChild(docLink);\n",
              "      }\n",
              "    </script>\n",
              "  </div>\n",
              "\n",
              "\n",
              "<div id=\"df-01183b7a-8aa3-4fd4-ae79-7bafc008a93e\">\n",
              "  <button class=\"colab-df-quickchart\" onclick=\"quickchart('df-01183b7a-8aa3-4fd4-ae79-7bafc008a93e')\"\n",
              "            title=\"Suggest charts\"\n",
              "            style=\"display:none;\">\n",
              "\n",
              "<svg xmlns=\"http://www.w3.org/2000/svg\" height=\"24px\"viewBox=\"0 0 24 24\"\n",
              "     width=\"24px\">\n",
              "    <g>\n",
              "        <path d=\"M19 3H5c-1.1 0-2 .9-2 2v14c0 1.1.9 2 2 2h14c1.1 0 2-.9 2-2V5c0-1.1-.9-2-2-2zM9 17H7v-7h2v7zm4 0h-2V7h2v10zm4 0h-2v-4h2v4z\"/>\n",
              "    </g>\n",
              "</svg>\n",
              "  </button>\n",
              "\n",
              "<style>\n",
              "  .colab-df-quickchart {\n",
              "      --bg-color: #E8F0FE;\n",
              "      --fill-color: #1967D2;\n",
              "      --hover-bg-color: #E2EBFA;\n",
              "      --hover-fill-color: #174EA6;\n",
              "      --disabled-fill-color: #AAA;\n",
              "      --disabled-bg-color: #DDD;\n",
              "  }\n",
              "\n",
              "  [theme=dark] .colab-df-quickchart {\n",
              "      --bg-color: #3B4455;\n",
              "      --fill-color: #D2E3FC;\n",
              "      --hover-bg-color: #434B5C;\n",
              "      --hover-fill-color: #FFFFFF;\n",
              "      --disabled-bg-color: #3B4455;\n",
              "      --disabled-fill-color: #666;\n",
              "  }\n",
              "\n",
              "  .colab-df-quickchart {\n",
              "    background-color: var(--bg-color);\n",
              "    border: none;\n",
              "    border-radius: 50%;\n",
              "    cursor: pointer;\n",
              "    display: none;\n",
              "    fill: var(--fill-color);\n",
              "    height: 32px;\n",
              "    padding: 0;\n",
              "    width: 32px;\n",
              "  }\n",
              "\n",
              "  .colab-df-quickchart:hover {\n",
              "    background-color: var(--hover-bg-color);\n",
              "    box-shadow: 0 1px 2px rgba(60, 64, 67, 0.3), 0 1px 3px 1px rgba(60, 64, 67, 0.15);\n",
              "    fill: var(--button-hover-fill-color);\n",
              "  }\n",
              "\n",
              "  .colab-df-quickchart-complete:disabled,\n",
              "  .colab-df-quickchart-complete:disabled:hover {\n",
              "    background-color: var(--disabled-bg-color);\n",
              "    fill: var(--disabled-fill-color);\n",
              "    box-shadow: none;\n",
              "  }\n",
              "\n",
              "  .colab-df-spinner {\n",
              "    border: 2px solid var(--fill-color);\n",
              "    border-color: transparent;\n",
              "    border-bottom-color: var(--fill-color);\n",
              "    animation:\n",
              "      spin 1s steps(1) infinite;\n",
              "  }\n",
              "\n",
              "  @keyframes spin {\n",
              "    0% {\n",
              "      border-color: transparent;\n",
              "      border-bottom-color: var(--fill-color);\n",
              "      border-left-color: var(--fill-color);\n",
              "    }\n",
              "    20% {\n",
              "      border-color: transparent;\n",
              "      border-left-color: var(--fill-color);\n",
              "      border-top-color: var(--fill-color);\n",
              "    }\n",
              "    30% {\n",
              "      border-color: transparent;\n",
              "      border-left-color: var(--fill-color);\n",
              "      border-top-color: var(--fill-color);\n",
              "      border-right-color: var(--fill-color);\n",
              "    }\n",
              "    40% {\n",
              "      border-color: transparent;\n",
              "      border-right-color: var(--fill-color);\n",
              "      border-top-color: var(--fill-color);\n",
              "    }\n",
              "    60% {\n",
              "      border-color: transparent;\n",
              "      border-right-color: var(--fill-color);\n",
              "    }\n",
              "    80% {\n",
              "      border-color: transparent;\n",
              "      border-right-color: var(--fill-color);\n",
              "      border-bottom-color: var(--fill-color);\n",
              "    }\n",
              "    90% {\n",
              "      border-color: transparent;\n",
              "      border-bottom-color: var(--fill-color);\n",
              "    }\n",
              "  }\n",
              "</style>\n",
              "\n",
              "  <script>\n",
              "    async function quickchart(key) {\n",
              "      const quickchartButtonEl =\n",
              "        document.querySelector('#' + key + ' button');\n",
              "      quickchartButtonEl.disabled = true;  // To prevent multiple clicks.\n",
              "      quickchartButtonEl.classList.add('colab-df-spinner');\n",
              "      try {\n",
              "        const charts = await google.colab.kernel.invokeFunction(\n",
              "            'suggestCharts', [key], {});\n",
              "      } catch (error) {\n",
              "        console.error('Error during call to suggestCharts:', error);\n",
              "      }\n",
              "      quickchartButtonEl.classList.remove('colab-df-spinner');\n",
              "      quickchartButtonEl.classList.add('colab-df-quickchart-complete');\n",
              "    }\n",
              "    (() => {\n",
              "      let quickchartButtonEl =\n",
              "        document.querySelector('#df-01183b7a-8aa3-4fd4-ae79-7bafc008a93e button');\n",
              "      quickchartButtonEl.style.display =\n",
              "        google.colab.kernel.accessAllowed ? 'block' : 'none';\n",
              "    })();\n",
              "  </script>\n",
              "</div>\n",
              "\n",
              "    </div>\n",
              "  </div>\n"
            ],
            "application/vnd.google.colaboratory.intrinsic+json": {
              "type": "dataframe",
              "variable_name": "dataset",
              "summary": "{\n  \"name\": \"dataset\",\n  \"rows\": 10000,\n  \"fields\": [\n    {\n      \"column\": \"preco\",\n      \"properties\": {\n        \"dtype\": \"number\",\n        \"std\": 25250.59239340875,\n        \"min\": -840.36,\n        \"max\": 118929.72,\n        \"num_unique_values\": 9997,\n        \"samples\": [\n          61092.81,\n          32427.37,\n          80948.12\n        ],\n        \"semantic_type\": \"\",\n        \"description\": \"\"\n      }\n    },\n    {\n      \"column\": \"vendido\",\n      \"properties\": {\n        \"dtype\": \"number\",\n        \"std\": 0,\n        \"min\": 0,\n        \"max\": 1,\n        \"num_unique_values\": 2,\n        \"samples\": [\n          0,\n          1\n        ],\n        \"semantic_type\": \"\",\n        \"description\": \"\"\n      }\n    },\n    {\n      \"column\": \"idade_modelo\",\n      \"properties\": {\n        \"dtype\": \"number\",\n        \"std\": 4,\n        \"min\": 7,\n        \"max\": 26,\n        \"num_unique_values\": 20,\n        \"samples\": [\n          24,\n          20\n        ],\n        \"semantic_type\": \"\",\n        \"description\": \"\"\n      }\n    },\n    {\n      \"column\": \"km_por_ano\",\n      \"properties\": {\n        \"dtype\": \"number\",\n        \"std\": 8060.494331776381,\n        \"min\": 584.19042,\n        \"max\": 63684.80248,\n        \"num_unique_values\": 7605,\n        \"samples\": [\n          24035.4929,\n          8791.82442\n        ],\n        \"semantic_type\": \"\",\n        \"description\": \"\"\n      }\n    }\n  ]\n}"
            }
          },
          "metadata": {},
          "execution_count": 50
        }
      ],
      "source": [
        "import pandas as pd\n",
        "from datetime import datetime\n",
        "\n",
        "uri = \"https://gist.githubusercontent.com/guilhermesilveira/4d1d4a16ccbf6ea4e0a64a38a24ec884/raw/afd05cb0c796d18f3f5a6537053ded308ba94bf7/car-prices.csv\"\n",
        "dataset = pd.read_csv(uri)\n",
        "\n",
        "colunas_renomeadas = {\n",
        "    'price' : 'preco',\n",
        "    'sold' : 'vendido',\n",
        "    'model_year' : 'ano_modelo'\n",
        "}\n",
        "dataset = dataset.rename(columns = colunas_renomeadas)\n",
        "\n",
        "vendido_binario= {\n",
        "    'yes':1,\n",
        "    'no':0\n",
        "}\n",
        "dataset.vendido = dataset.vendido.map(vendido_binario)\n",
        "\n",
        "ano_atual = datetime.today().year\n",
        "dataset['idade_modelo'] = ano_atual - dataset.ano_modelo\n",
        "dataset['km_por_ano'] = dataset.mileage_per_year * 1.60934\n",
        "\n",
        "dataset = dataset.drop(columns=['mileage_per_year', 'Unnamed: 0', 'ano_modelo'], axis=1)\n",
        "\n",
        "dataset.head()"
      ]
    },
    {
      "cell_type": "code",
      "source": [
        "from sklearn.model_selection import train_test_split\n",
        "from sklearn.svm import LinearSVC\n",
        "from sklearn.metrics import accuracy_score\n",
        "import numpy as np\n",
        "\n",
        "seed = 20\n",
        "np.random.seed(seed)\n",
        "\n",
        "x = dataset[['preco', 'km_por_ano', 'idade_modelo']]\n",
        "y = dataset['vendido']\n",
        "\n",
        "treino_x, teste_x, treino_y, teste_y = train_test_split(x, y,\n",
        "                                                        test_size=0.25,\n",
        "                                                        stratify=y)\n",
        "print(\"Amostra de treino = %d | Amostras de teste = %d\" % (len(treino_x), len(teste_y)))\n",
        "\n",
        "model = LinearSVC()\n",
        "model.fit(treino_x, treino_y)\n",
        "previsao = model.predict(teste_x)\n",
        "acuracia = accuracy_score(teste_y, previsao) * 100\n",
        "print(\"Acurácia = %.2f%%\" % (acuracia))"
      ],
      "metadata": {
        "colab": {
          "base_uri": "https://localhost:8080/"
        },
        "id": "i5C_mS8j5hH6",
        "outputId": "bc3eeb64-cfb2-41f8-fe7b-04ca2ca6b053"
      },
      "execution_count": null,
      "outputs": [
        {
          "output_type": "stream",
          "name": "stdout",
          "text": [
            "Amostra de treino = 7500 | Amostras de teste = 2500\n",
            "Acurácia = 56.96%\n"
          ]
        },
        {
          "output_type": "stream",
          "name": "stderr",
          "text": [
            "/usr/local/lib/python3.10/dist-packages/sklearn/svm/_base.py:1244: ConvergenceWarning: Liblinear failed to converge, increase the number of iterations.\n",
            "  warnings.warn(\n"
          ]
        }
      ]
    },
    {
      "cell_type": "code",
      "source": [
        "from sklearn.dummy import DummyClassifier\n",
        "\n",
        "dummy = DummyClassifier(strategy='stratified')\n",
        "dummy.fit(treino_x, treino_y)\n",
        "acuracia = dummy.score(teste_x, teste_y) * 100\n",
        "print(\"Acurácia dummy stratified = %.2f%%\" % (acuracia))"
      ],
      "metadata": {
        "colab": {
          "base_uri": "https://localhost:8080/"
        },
        "id": "rJjPXYNd6Y-W",
        "outputId": "4a1aca14-8b5e-4396-8f2e-841079c40a32"
      },
      "execution_count": null,
      "outputs": [
        {
          "output_type": "stream",
          "name": "stdout",
          "text": [
            "Acurácia dummy stratified = 52.20%\n"
          ]
        }
      ]
    },
    {
      "cell_type": "code",
      "source": [
        "dummy = DummyClassifier(strategy='most_frequent')\n",
        "dummy.fit(treino_x, treino_y)\n",
        "acuracia = dummy.score(teste_x, teste_y) * 100\n",
        "print(\"Acurácia dummy most frequent = %.2f%%\" % (acuracia))"
      ],
      "metadata": {
        "colab": {
          "base_uri": "https://localhost:8080/"
        },
        "id": "GJO8HW93rwmr",
        "outputId": "512877eb-123e-4a01-f575-9d483b57a7c5"
      },
      "execution_count": null,
      "outputs": [
        {
          "output_type": "stream",
          "name": "stdout",
          "text": [
            "Acurácia dummy most frequent = 58.00%\n"
          ]
        }
      ]
    },
    {
      "cell_type": "code",
      "source": [
        "from sklearn.preprocessing import StandardScaler\n",
        "from sklearn.svm import SVC\n",
        "\n",
        "raw_treino_x, raw_teste_x, treino_y, teste_y = train_test_split(x, y,\n",
        "                                                        test_size=0.25,\n",
        "                                                        stratify=y)\n",
        "print(\"Amostra de treino = %d | Amostras de teste = %d\" % (len(treino_x), len(teste_y)))\n",
        "\n",
        "scaler = StandardScaler()\n",
        "scaler.fit(raw_treino_x)\n",
        "treino_x = scaler.transform(raw_treino_x)\n",
        "teste_x = scaler.transform(raw_teste_x)\n",
        "\n",
        "modelo = SVC()\n",
        "modelo.fit(treino_x, treino_y)\n",
        "previsao = modelo.predict(teste_x)\n",
        "acuracia = accuracy_score(teste_y, previsao) * 100\n",
        "print(\"Acurácia dummy most frequent = %.2f%%\" % (acuracia))"
      ],
      "metadata": {
        "colab": {
          "base_uri": "https://localhost:8080/"
        },
        "id": "oKtSTGz5uMmB",
        "outputId": "8b6e4fee-6a1c-44b1-dd5b-6d2bc1742313"
      },
      "execution_count": null,
      "outputs": [
        {
          "output_type": "stream",
          "name": "stdout",
          "text": [
            "Amostra de treino = 7500 | Amostras de teste = 2500\n",
            "Acurácia dummy most frequent = 77.16%\n"
          ]
        }
      ]
    },
    {
      "cell_type": "code",
      "source": [
        "from sklearn.tree import DecisionTreeClassifier\n",
        "from sklearn.preprocessing import StandardScaler\n",
        "from sklearn.svm import SVC\n",
        "from sklearn.tree import export_graphviz\n",
        "import graphviz\n",
        "\n",
        "raw_treino_x, raw_teste_x, treino_y, teste_y = train_test_split(x, y,\n",
        "                                                        test_size=0.25,\n",
        "                                                        stratify=y)\n",
        "print(\"Amostra de treino = %d | Amostras de teste = %d\" % (len(treino_x), len(teste_y)))\n",
        "\n",
        "modelo = DecisionTreeClassifier(max_depth=4)\n",
        "modelo.fit(raw_treino_x, treino_y)\n",
        "previsao = modelo.predict(raw_teste_x)\n",
        "acuracia = accuracy_score(teste_y, previsao) * 100\n",
        "print(\"Acurácia dummy most frequent = %.2f%%\" % (acuracia))\n",
        "\n",
        "features = x.columns\n",
        "dot_data = export_graphviz(modelo,\n",
        "                           filled=True, rounded=True,\n",
        "                           feature_names = features,\n",
        "                           class_names=['não', 'sim'])\n",
        "grafico = graphviz.Source(dot_data)\n",
        "grafico"
      ],
      "metadata": {
        "colab": {
          "base_uri": "https://localhost:8080/",
          "height": 812
        },
        "id": "UlWZgRlZyov1",
        "outputId": "4eae696e-5c9a-437e-ff39-28a5128d1547"
      },
      "execution_count": null,
      "outputs": [
        {
          "output_type": "stream",
          "name": "stdout",
          "text": [
            "Amostra de treino = 7500 | Amostras de teste = 2500\n",
            "Acurácia dummy most frequent = 77.88%\n"
          ]
        },
        {
          "output_type": "execute_result",
          "data": {
            "text/plain": [
              "<graphviz.files.Source at 0x7b3f1917ed70>"
            ],
            "image/svg+xml": "<?xml version=\"1.0\" encoding=\"UTF-8\" standalone=\"no\"?>\n<!DOCTYPE svg PUBLIC \"-//W3C//DTD SVG 1.1//EN\"\n \"http://www.w3.org/Graphics/SVG/1.1/DTD/svg11.dtd\">\n<!-- Generated by graphviz version 2.43.0 (0)\n -->\n<!-- Title: Tree Pages: 1 -->\n<svg width=\"1560pt\" height=\"552pt\"\n viewBox=\"0.00 0.00 1559.50 552.00\" xmlns=\"http://www.w3.org/2000/svg\" xmlns:xlink=\"http://www.w3.org/1999/xlink\">\n<g id=\"graph0\" class=\"graph\" transform=\"scale(1 1) rotate(0) translate(4 548)\">\n<title>Tree</title>\n<polygon fill=\"white\" stroke=\"transparent\" points=\"-4,4 -4,-548 1555.5,-548 1555.5,4 -4,4\"/>\n<!-- 0 -->\n<g id=\"node1\" class=\"node\">\n<title>0</title>\n<path fill=\"#c8e4f8\" stroke=\"black\" d=\"M568,-544C568,-544 452,-544 452,-544 446,-544 440,-538 440,-532 440,-532 440,-473 440,-473 440,-467 446,-461 452,-461 452,-461 568,-461 568,-461 574,-461 580,-467 580,-473 580,-473 580,-532 580,-532 580,-538 574,-544 568,-544\"/>\n<text text-anchor=\"middle\" x=\"510\" y=\"-528.8\" font-family=\"Helvetica,sans-Serif\" font-size=\"14.00\">preco &lt;= 59976.24</text>\n<text text-anchor=\"middle\" x=\"510\" y=\"-513.8\" font-family=\"Helvetica,sans-Serif\" font-size=\"14.00\">gini = 0.487</text>\n<text text-anchor=\"middle\" x=\"510\" y=\"-498.8\" font-family=\"Helvetica,sans-Serif\" font-size=\"14.00\">samples = 7500</text>\n<text text-anchor=\"middle\" x=\"510\" y=\"-483.8\" font-family=\"Helvetica,sans-Serif\" font-size=\"14.00\">value = [3150, 4350]</text>\n<text text-anchor=\"middle\" x=\"510\" y=\"-468.8\" font-family=\"Helvetica,sans-Serif\" font-size=\"14.00\">class = sim</text>\n</g>\n<!-- 1 -->\n<g id=\"node2\" class=\"node\">\n<title>1</title>\n<path fill=\"#52a9e8\" stroke=\"black\" d=\"M457,-425C457,-425 343,-425 343,-425 337,-425 331,-419 331,-413 331,-413 331,-354 331,-354 331,-348 337,-342 343,-342 343,-342 457,-342 457,-342 463,-342 469,-348 469,-354 469,-354 469,-413 469,-413 469,-419 463,-425 457,-425\"/>\n<text text-anchor=\"middle\" x=\"400\" y=\"-409.8\" font-family=\"Helvetica,sans-Serif\" font-size=\"14.00\">preco &lt;= 40112.766</text>\n<text text-anchor=\"middle\" x=\"400\" y=\"-394.8\" font-family=\"Helvetica,sans-Serif\" font-size=\"14.00\">gini = 0.2</text>\n<text text-anchor=\"middle\" x=\"400\" y=\"-379.8\" font-family=\"Helvetica,sans-Serif\" font-size=\"14.00\">samples = 3276</text>\n<text text-anchor=\"middle\" x=\"400\" y=\"-364.8\" font-family=\"Helvetica,sans-Serif\" font-size=\"14.00\">value = [369, 2907]</text>\n<text text-anchor=\"middle\" x=\"400\" y=\"-349.8\" font-family=\"Helvetica,sans-Serif\" font-size=\"14.00\">class = sim</text>\n</g>\n<!-- 0&#45;&gt;1 -->\n<g id=\"edge1\" class=\"edge\">\n<title>0&#45;&gt;1</title>\n<path fill=\"none\" stroke=\"black\" d=\"M471.84,-460.91C463.22,-451.74 453.99,-441.93 445.12,-432.49\"/>\n<polygon fill=\"black\" stroke=\"black\" points=\"447.5,-429.91 438.1,-425.02 442.4,-434.7 447.5,-429.91\"/>\n<text text-anchor=\"middle\" x=\"437.33\" y=\"-446.31\" font-family=\"Helvetica,sans-Serif\" font-size=\"14.00\">True</text>\n</g>\n<!-- 10 -->\n<g id=\"node11\" class=\"node\">\n<title>10</title>\n<path fill=\"#f2c2a0\" stroke=\"black\" d=\"M847,-425C847,-425 691,-425 691,-425 685,-425 679,-419 679,-413 679,-413 679,-354 679,-354 679,-348 685,-342 691,-342 691,-342 847,-342 847,-342 853,-342 859,-348 859,-354 859,-354 859,-413 859,-413 859,-419 853,-425 847,-425\"/>\n<text text-anchor=\"middle\" x=\"769\" y=\"-409.8\" font-family=\"Helvetica,sans-Serif\" font-size=\"14.00\">km_por_ano &lt;= 24124.006</text>\n<text text-anchor=\"middle\" x=\"769\" y=\"-394.8\" font-family=\"Helvetica,sans-Serif\" font-size=\"14.00\">gini = 0.45</text>\n<text text-anchor=\"middle\" x=\"769\" y=\"-379.8\" font-family=\"Helvetica,sans-Serif\" font-size=\"14.00\">samples = 4224</text>\n<text text-anchor=\"middle\" x=\"769\" y=\"-364.8\" font-family=\"Helvetica,sans-Serif\" font-size=\"14.00\">value = [2781, 1443]</text>\n<text text-anchor=\"middle\" x=\"769\" y=\"-349.8\" font-family=\"Helvetica,sans-Serif\" font-size=\"14.00\">class = não</text>\n</g>\n<!-- 0&#45;&gt;10 -->\n<g id=\"edge10\" class=\"edge\">\n<title>0&#45;&gt;10</title>\n<path fill=\"none\" stroke=\"black\" d=\"M580.09,-469.84C607.79,-457.33 640.11,-442.72 670.11,-429.17\"/>\n<polygon fill=\"black\" stroke=\"black\" points=\"671.67,-432.31 679.34,-425 668.79,-425.93 671.67,-432.31\"/>\n<text text-anchor=\"middle\" x=\"670.51\" y=\"-444.69\" font-family=\"Helvetica,sans-Serif\" font-size=\"14.00\">False</text>\n</g>\n<!-- 2 -->\n<g id=\"node3\" class=\"node\">\n<title>2</title>\n<path fill=\"#399de5\" stroke=\"black\" d=\"M300.5,-298.5C300.5,-298.5 207.5,-298.5 207.5,-298.5 201.5,-298.5 195.5,-292.5 195.5,-286.5 195.5,-286.5 195.5,-242.5 195.5,-242.5 195.5,-236.5 201.5,-230.5 207.5,-230.5 207.5,-230.5 300.5,-230.5 300.5,-230.5 306.5,-230.5 312.5,-236.5 312.5,-242.5 312.5,-242.5 312.5,-286.5 312.5,-286.5 312.5,-292.5 306.5,-298.5 300.5,-298.5\"/>\n<text text-anchor=\"middle\" x=\"254\" y=\"-283.3\" font-family=\"Helvetica,sans-Serif\" font-size=\"14.00\">gini = 0.0</text>\n<text text-anchor=\"middle\" x=\"254\" y=\"-268.3\" font-family=\"Helvetica,sans-Serif\" font-size=\"14.00\">samples = 1464</text>\n<text text-anchor=\"middle\" x=\"254\" y=\"-253.3\" font-family=\"Helvetica,sans-Serif\" font-size=\"14.00\">value = [0, 1464]</text>\n<text text-anchor=\"middle\" x=\"254\" y=\"-238.3\" font-family=\"Helvetica,sans-Serif\" font-size=\"14.00\">class = sim</text>\n</g>\n<!-- 1&#45;&gt;2 -->\n<g id=\"edge2\" class=\"edge\">\n<title>1&#45;&gt;2</title>\n<path fill=\"none\" stroke=\"black\" d=\"M349.35,-341.91C334.47,-329.99 318.23,-316.98 303.44,-305.12\"/>\n<polygon fill=\"black\" stroke=\"black\" points=\"305.38,-302.19 295.39,-298.67 301,-307.65 305.38,-302.19\"/>\n</g>\n<!-- 3 -->\n<g id=\"node4\" class=\"node\">\n<title>3</title>\n<path fill=\"#6cb6ec\" stroke=\"black\" d=\"M457,-306C457,-306 343,-306 343,-306 337,-306 331,-300 331,-294 331,-294 331,-235 331,-235 331,-229 337,-223 343,-223 343,-223 457,-223 457,-223 463,-223 469,-229 469,-235 469,-235 469,-294 469,-294 469,-300 463,-306 457,-306\"/>\n<text text-anchor=\"middle\" x=\"400\" y=\"-290.8\" font-family=\"Helvetica,sans-Serif\" font-size=\"14.00\">preco &lt;= 41083.029</text>\n<text text-anchor=\"middle\" x=\"400\" y=\"-275.8\" font-family=\"Helvetica,sans-Serif\" font-size=\"14.00\">gini = 0.324</text>\n<text text-anchor=\"middle\" x=\"400\" y=\"-260.8\" font-family=\"Helvetica,sans-Serif\" font-size=\"14.00\">samples = 1812</text>\n<text text-anchor=\"middle\" x=\"400\" y=\"-245.8\" font-family=\"Helvetica,sans-Serif\" font-size=\"14.00\">value = [369, 1443]</text>\n<text text-anchor=\"middle\" x=\"400\" y=\"-230.8\" font-family=\"Helvetica,sans-Serif\" font-size=\"14.00\">class = sim</text>\n</g>\n<!-- 1&#45;&gt;3 -->\n<g id=\"edge3\" class=\"edge\">\n<title>1&#45;&gt;3</title>\n<path fill=\"none\" stroke=\"black\" d=\"M400,-341.91C400,-333.65 400,-324.86 400,-316.3\"/>\n<polygon fill=\"black\" stroke=\"black\" points=\"403.5,-316.02 400,-306.02 396.5,-316.02 403.5,-316.02\"/>\n</g>\n<!-- 4 -->\n<g id=\"node5\" class=\"node\">\n<title>4</title>\n<path fill=\"#9ecff2\" stroke=\"black\" d=\"M241,-187C241,-187 113,-187 113,-187 107,-187 101,-181 101,-175 101,-175 101,-116 101,-116 101,-110 107,-104 113,-104 113,-104 241,-104 241,-104 247,-104 253,-110 253,-116 253,-116 253,-175 253,-175 253,-181 247,-187 241,-187\"/>\n<text text-anchor=\"middle\" x=\"177\" y=\"-171.8\" font-family=\"Helvetica,sans-Serif\" font-size=\"14.00\">idade_modelo &lt;= 24.5</text>\n<text text-anchor=\"middle\" x=\"177\" y=\"-156.8\" font-family=\"Helvetica,sans-Serif\" font-size=\"14.00\">gini = 0.447</text>\n<text text-anchor=\"middle\" x=\"177\" y=\"-141.8\" font-family=\"Helvetica,sans-Serif\" font-size=\"14.00\">samples = 80</text>\n<text text-anchor=\"middle\" x=\"177\" y=\"-126.8\" font-family=\"Helvetica,sans-Serif\" font-size=\"14.00\">value = [27, 53]</text>\n<text text-anchor=\"middle\" x=\"177\" y=\"-111.8\" font-family=\"Helvetica,sans-Serif\" font-size=\"14.00\">class = sim</text>\n</g>\n<!-- 3&#45;&gt;4 -->\n<g id=\"edge4\" class=\"edge\">\n<title>3&#45;&gt;4</title>\n<path fill=\"none\" stroke=\"black\" d=\"M330.97,-227.28C309.17,-215.85 284.83,-203.08 262.06,-191.13\"/>\n<polygon fill=\"black\" stroke=\"black\" points=\"263.56,-187.96 253.08,-186.42 260.31,-194.16 263.56,-187.96\"/>\n</g>\n<!-- 7 -->\n<g id=\"node8\" class=\"node\">\n<title>7</title>\n<path fill=\"#6ab5eb\" stroke=\"black\" d=\"M478,-187C478,-187 322,-187 322,-187 316,-187 310,-181 310,-175 310,-175 310,-116 310,-116 310,-110 316,-104 322,-104 322,-104 478,-104 478,-104 484,-104 490,-110 490,-116 490,-116 490,-175 490,-175 490,-181 484,-187 478,-187\"/>\n<text text-anchor=\"middle\" x=\"400\" y=\"-171.8\" font-family=\"Helvetica,sans-Serif\" font-size=\"14.00\">km_por_ano &lt;= 12239.031</text>\n<text text-anchor=\"middle\" x=\"400\" y=\"-156.8\" font-family=\"Helvetica,sans-Serif\" font-size=\"14.00\">gini = 0.317</text>\n<text text-anchor=\"middle\" x=\"400\" y=\"-141.8\" font-family=\"Helvetica,sans-Serif\" font-size=\"14.00\">samples = 1732</text>\n<text text-anchor=\"middle\" x=\"400\" y=\"-126.8\" font-family=\"Helvetica,sans-Serif\" font-size=\"14.00\">value = [342, 1390]</text>\n<text text-anchor=\"middle\" x=\"400\" y=\"-111.8\" font-family=\"Helvetica,sans-Serif\" font-size=\"14.00\">class = sim</text>\n</g>\n<!-- 3&#45;&gt;7 -->\n<g id=\"edge7\" class=\"edge\">\n<title>3&#45;&gt;7</title>\n<path fill=\"none\" stroke=\"black\" d=\"M400,-222.91C400,-214.65 400,-205.86 400,-197.3\"/>\n<polygon fill=\"black\" stroke=\"black\" points=\"403.5,-197.02 400,-187.02 396.5,-197.02 403.5,-197.02\"/>\n</g>\n<!-- 5 -->\n<g id=\"node6\" class=\"node\">\n<title>5</title>\n<path fill=\"#87c4ef\" stroke=\"black\" d=\"M98,-68C98,-68 12,-68 12,-68 6,-68 0,-62 0,-56 0,-56 0,-12 0,-12 0,-6 6,0 12,0 12,0 98,0 98,0 104,0 110,-6 110,-12 110,-12 110,-56 110,-56 110,-62 104,-68 98,-68\"/>\n<text text-anchor=\"middle\" x=\"55\" y=\"-52.8\" font-family=\"Helvetica,sans-Serif\" font-size=\"14.00\">gini = 0.406</text>\n<text text-anchor=\"middle\" x=\"55\" y=\"-37.8\" font-family=\"Helvetica,sans-Serif\" font-size=\"14.00\">samples = 67</text>\n<text text-anchor=\"middle\" x=\"55\" y=\"-22.8\" font-family=\"Helvetica,sans-Serif\" font-size=\"14.00\">value = [19, 48]</text>\n<text text-anchor=\"middle\" x=\"55\" y=\"-7.8\" font-family=\"Helvetica,sans-Serif\" font-size=\"14.00\">class = sim</text>\n</g>\n<!-- 4&#45;&gt;5 -->\n<g id=\"edge5\" class=\"edge\">\n<title>4&#45;&gt;5</title>\n<path fill=\"none\" stroke=\"black\" d=\"M131.57,-103.73C121.1,-94.33 109.98,-84.35 99.55,-74.99\"/>\n<polygon fill=\"black\" stroke=\"black\" points=\"101.88,-72.37 92.1,-68.3 97.21,-77.58 101.88,-72.37\"/>\n</g>\n<!-- 6 -->\n<g id=\"node7\" class=\"node\">\n<title>6</title>\n<path fill=\"#f5d0b5\" stroke=\"black\" d=\"M214,-68C214,-68 140,-68 140,-68 134,-68 128,-62 128,-56 128,-56 128,-12 128,-12 128,-6 134,0 140,0 140,0 214,0 214,0 220,0 226,-6 226,-12 226,-12 226,-56 226,-56 226,-62 220,-68 214,-68\"/>\n<text text-anchor=\"middle\" x=\"177\" y=\"-52.8\" font-family=\"Helvetica,sans-Serif\" font-size=\"14.00\">gini = 0.473</text>\n<text text-anchor=\"middle\" x=\"177\" y=\"-37.8\" font-family=\"Helvetica,sans-Serif\" font-size=\"14.00\">samples = 13</text>\n<text text-anchor=\"middle\" x=\"177\" y=\"-22.8\" font-family=\"Helvetica,sans-Serif\" font-size=\"14.00\">value = [8, 5]</text>\n<text text-anchor=\"middle\" x=\"177\" y=\"-7.8\" font-family=\"Helvetica,sans-Serif\" font-size=\"14.00\">class = não</text>\n</g>\n<!-- 4&#45;&gt;6 -->\n<g id=\"edge6\" class=\"edge\">\n<title>4&#45;&gt;6</title>\n<path fill=\"none\" stroke=\"black\" d=\"M177,-103.73C177,-95.52 177,-86.86 177,-78.56\"/>\n<polygon fill=\"black\" stroke=\"black\" points=\"180.5,-78.3 177,-68.3 173.5,-78.3 180.5,-78.3\"/>\n</g>\n<!-- 8 -->\n<g id=\"node9\" class=\"node\">\n<title>8</title>\n<path fill=\"#96cbf1\" stroke=\"black\" d=\"M342,-68C342,-68 256,-68 256,-68 250,-68 244,-62 244,-56 244,-56 244,-12 244,-12 244,-6 250,0 256,0 256,0 342,0 342,0 348,0 354,-6 354,-12 354,-12 354,-56 354,-56 354,-62 348,-68 342,-68\"/>\n<text text-anchor=\"middle\" x=\"299\" y=\"-52.8\" font-family=\"Helvetica,sans-Serif\" font-size=\"14.00\">gini = 0.434</text>\n<text text-anchor=\"middle\" x=\"299\" y=\"-37.8\" font-family=\"Helvetica,sans-Serif\" font-size=\"14.00\">samples = 91</text>\n<text text-anchor=\"middle\" x=\"299\" y=\"-22.8\" font-family=\"Helvetica,sans-Serif\" font-size=\"14.00\">value = [29, 62]</text>\n<text text-anchor=\"middle\" x=\"299\" y=\"-7.8\" font-family=\"Helvetica,sans-Serif\" font-size=\"14.00\">class = sim</text>\n</g>\n<!-- 7&#45;&gt;8 -->\n<g id=\"edge8\" class=\"edge\">\n<title>7&#45;&gt;8</title>\n<path fill=\"none\" stroke=\"black\" d=\"M362.39,-103.73C353.98,-94.61 345.05,-84.93 336.64,-75.81\"/>\n<polygon fill=\"black\" stroke=\"black\" points=\"339.07,-73.28 329.71,-68.3 333.92,-78.02 339.07,-73.28\"/>\n</g>\n<!-- 9 -->\n<g id=\"node10\" class=\"node\">\n<title>9</title>\n<path fill=\"#68b4eb\" stroke=\"black\" d=\"M492,-68C492,-68 384,-68 384,-68 378,-68 372,-62 372,-56 372,-56 372,-12 372,-12 372,-6 378,0 384,0 384,0 492,0 492,0 498,0 504,-6 504,-12 504,-12 504,-56 504,-56 504,-62 498,-68 492,-68\"/>\n<text text-anchor=\"middle\" x=\"438\" y=\"-52.8\" font-family=\"Helvetica,sans-Serif\" font-size=\"14.00\">gini = 0.309</text>\n<text text-anchor=\"middle\" x=\"438\" y=\"-37.8\" font-family=\"Helvetica,sans-Serif\" font-size=\"14.00\">samples = 1641</text>\n<text text-anchor=\"middle\" x=\"438\" y=\"-22.8\" font-family=\"Helvetica,sans-Serif\" font-size=\"14.00\">value = [313, 1328]</text>\n<text text-anchor=\"middle\" x=\"438\" y=\"-7.8\" font-family=\"Helvetica,sans-Serif\" font-size=\"14.00\">class = sim</text>\n</g>\n<!-- 7&#45;&gt;9 -->\n<g id=\"edge9\" class=\"edge\">\n<title>7&#45;&gt;9</title>\n<path fill=\"none\" stroke=\"black\" d=\"M414.15,-103.73C417.06,-95.34 420.14,-86.47 423.08,-78.01\"/>\n<polygon fill=\"black\" stroke=\"black\" points=\"426.47,-78.89 426.44,-68.3 419.86,-76.6 426.47,-78.89\"/>\n</g>\n<!-- 11 -->\n<g id=\"node12\" class=\"node\">\n<title>11</title>\n<path fill=\"#fbeee4\" stroke=\"black\" d=\"M830,-306C830,-306 708,-306 708,-306 702,-306 696,-300 696,-294 696,-294 696,-235 696,-235 696,-229 702,-223 708,-223 708,-223 830,-223 830,-223 836,-223 842,-229 842,-235 842,-235 842,-294 842,-294 842,-300 836,-306 830,-306\"/>\n<text text-anchor=\"middle\" x=\"769\" y=\"-290.8\" font-family=\"Helvetica,sans-Serif\" font-size=\"14.00\">preco &lt;= 100039.566</text>\n<text text-anchor=\"middle\" x=\"769\" y=\"-275.8\" font-family=\"Helvetica,sans-Serif\" font-size=\"14.00\">gini = 0.497</text>\n<text text-anchor=\"middle\" x=\"769\" y=\"-260.8\" font-family=\"Helvetica,sans-Serif\" font-size=\"14.00\">samples = 2626</text>\n<text text-anchor=\"middle\" x=\"769\" y=\"-245.8\" font-family=\"Helvetica,sans-Serif\" font-size=\"14.00\">value = [1410, 1216]</text>\n<text text-anchor=\"middle\" x=\"769\" y=\"-230.8\" font-family=\"Helvetica,sans-Serif\" font-size=\"14.00\">class = não</text>\n</g>\n<!-- 10&#45;&gt;11 -->\n<g id=\"edge11\" class=\"edge\">\n<title>10&#45;&gt;11</title>\n<path fill=\"none\" stroke=\"black\" d=\"M769,-341.91C769,-333.65 769,-324.86 769,-316.3\"/>\n<polygon fill=\"black\" stroke=\"black\" points=\"772.5,-316.02 769,-306.02 765.5,-316.02 772.5,-316.02\"/>\n</g>\n<!-- 18 -->\n<g id=\"node19\" class=\"node\">\n<title>18</title>\n<path fill=\"#e9965a\" stroke=\"black\" d=\"M1211,-306C1211,-306 1089,-306 1089,-306 1083,-306 1077,-300 1077,-294 1077,-294 1077,-235 1077,-235 1077,-229 1083,-223 1089,-223 1089,-223 1211,-223 1211,-223 1217,-223 1223,-229 1223,-235 1223,-235 1223,-294 1223,-294 1223,-300 1217,-306 1211,-306\"/>\n<text text-anchor=\"middle\" x=\"1150\" y=\"-290.8\" font-family=\"Helvetica,sans-Serif\" font-size=\"14.00\">preco &lt;= 100076.957</text>\n<text text-anchor=\"middle\" x=\"1150\" y=\"-275.8\" font-family=\"Helvetica,sans-Serif\" font-size=\"14.00\">gini = 0.244</text>\n<text text-anchor=\"middle\" x=\"1150\" y=\"-260.8\" font-family=\"Helvetica,sans-Serif\" font-size=\"14.00\">samples = 1598</text>\n<text text-anchor=\"middle\" x=\"1150\" y=\"-245.8\" font-family=\"Helvetica,sans-Serif\" font-size=\"14.00\">value = [1371, 227]</text>\n<text text-anchor=\"middle\" x=\"1150\" y=\"-230.8\" font-family=\"Helvetica,sans-Serif\" font-size=\"14.00\">class = não</text>\n</g>\n<!-- 10&#45;&gt;18 -->\n<g id=\"edge18\" class=\"edge\">\n<title>10&#45;&gt;18</title>\n<path fill=\"none\" stroke=\"black\" d=\"M859.29,-354.77C922.37,-335.4 1005.95,-309.74 1067.29,-290.9\"/>\n<polygon fill=\"black\" stroke=\"black\" points=\"1068.41,-294.22 1076.94,-287.94 1066.35,-287.53 1068.41,-294.22\"/>\n</g>\n<!-- 12 -->\n<g id=\"node13\" class=\"node\">\n<title>12</title>\n<path fill=\"#f8dfcc\" stroke=\"black\" d=\"M754.5,-187C754.5,-187 605.5,-187 605.5,-187 599.5,-187 593.5,-181 593.5,-175 593.5,-175 593.5,-116 593.5,-116 593.5,-110 599.5,-104 605.5,-104 605.5,-104 754.5,-104 754.5,-104 760.5,-104 766.5,-110 766.5,-116 766.5,-116 766.5,-175 766.5,-175 766.5,-181 760.5,-187 754.5,-187\"/>\n<text text-anchor=\"middle\" x=\"680\" y=\"-171.8\" font-family=\"Helvetica,sans-Serif\" font-size=\"14.00\">km_por_ano &lt;= 6826.016</text>\n<text text-anchor=\"middle\" x=\"680\" y=\"-156.8\" font-family=\"Helvetica,sans-Serif\" font-size=\"14.00\">gini = 0.489</text>\n<text text-anchor=\"middle\" x=\"680\" y=\"-141.8\" font-family=\"Helvetica,sans-Serif\" font-size=\"14.00\">samples = 2202</text>\n<text text-anchor=\"middle\" x=\"680\" y=\"-126.8\" font-family=\"Helvetica,sans-Serif\" font-size=\"14.00\">value = [1264, 938]</text>\n<text text-anchor=\"middle\" x=\"680\" y=\"-111.8\" font-family=\"Helvetica,sans-Serif\" font-size=\"14.00\">class = não</text>\n</g>\n<!-- 11&#45;&gt;12 -->\n<g id=\"edge12\" class=\"edge\">\n<title>11&#45;&gt;12</title>\n<path fill=\"none\" stroke=\"black\" d=\"M738.12,-222.91C731.29,-213.92 723.98,-204.32 716.93,-195.05\"/>\n<polygon fill=\"black\" stroke=\"black\" points=\"719.66,-192.86 710.82,-187.02 714.09,-197.1 719.66,-192.86\"/>\n</g>\n<!-- 15 -->\n<g id=\"node16\" class=\"node\">\n<title>15</title>\n<path fill=\"#a1d0f3\" stroke=\"black\" d=\"M919,-187C919,-187 797,-187 797,-187 791,-187 785,-181 785,-175 785,-175 785,-116 785,-116 785,-110 791,-104 797,-104 797,-104 919,-104 919,-104 925,-104 931,-110 931,-116 931,-116 931,-175 931,-175 931,-181 925,-187 919,-187\"/>\n<text text-anchor=\"middle\" x=\"858\" y=\"-171.8\" font-family=\"Helvetica,sans-Serif\" font-size=\"14.00\">preco &lt;= 100473.023</text>\n<text text-anchor=\"middle\" x=\"858\" y=\"-156.8\" font-family=\"Helvetica,sans-Serif\" font-size=\"14.00\">gini = 0.452</text>\n<text text-anchor=\"middle\" x=\"858\" y=\"-141.8\" font-family=\"Helvetica,sans-Serif\" font-size=\"14.00\">samples = 424</text>\n<text text-anchor=\"middle\" x=\"858\" y=\"-126.8\" font-family=\"Helvetica,sans-Serif\" font-size=\"14.00\">value = [146, 278]</text>\n<text text-anchor=\"middle\" x=\"858\" y=\"-111.8\" font-family=\"Helvetica,sans-Serif\" font-size=\"14.00\">class = sim</text>\n</g>\n<!-- 11&#45;&gt;15 -->\n<g id=\"edge15\" class=\"edge\">\n<title>11&#45;&gt;15</title>\n<path fill=\"none\" stroke=\"black\" d=\"M799.88,-222.91C806.71,-213.92 814.02,-204.32 821.07,-195.05\"/>\n<polygon fill=\"black\" stroke=\"black\" points=\"823.91,-197.1 827.18,-187.02 818.34,-192.86 823.91,-197.1\"/>\n</g>\n<!-- 13 -->\n<g id=\"node14\" class=\"node\">\n<title>13</title>\n<path fill=\"#e58139\" stroke=\"black\" d=\"M605.5,-68C605.5,-68 534.5,-68 534.5,-68 528.5,-68 522.5,-62 522.5,-56 522.5,-56 522.5,-12 522.5,-12 522.5,-6 528.5,0 534.5,0 534.5,0 605.5,0 605.5,0 611.5,0 617.5,-6 617.5,-12 617.5,-12 617.5,-56 617.5,-56 617.5,-62 611.5,-68 605.5,-68\"/>\n<text text-anchor=\"middle\" x=\"570\" y=\"-52.8\" font-family=\"Helvetica,sans-Serif\" font-size=\"14.00\">gini = 0.0</text>\n<text text-anchor=\"middle\" x=\"570\" y=\"-37.8\" font-family=\"Helvetica,sans-Serif\" font-size=\"14.00\">samples = 8</text>\n<text text-anchor=\"middle\" x=\"570\" y=\"-22.8\" font-family=\"Helvetica,sans-Serif\" font-size=\"14.00\">value = [8, 0]</text>\n<text text-anchor=\"middle\" x=\"570\" y=\"-7.8\" font-family=\"Helvetica,sans-Serif\" font-size=\"14.00\">class = não</text>\n</g>\n<!-- 12&#45;&gt;13 -->\n<g id=\"edge13\" class=\"edge\">\n<title>12&#45;&gt;13</title>\n<path fill=\"none\" stroke=\"black\" d=\"M639.04,-103.73C629.79,-94.51 619.96,-84.74 610.72,-75.53\"/>\n<polygon fill=\"black\" stroke=\"black\" points=\"613.01,-72.87 603.45,-68.3 608.07,-77.84 613.01,-72.87\"/>\n</g>\n<!-- 14 -->\n<g id=\"node15\" class=\"node\">\n<title>14</title>\n<path fill=\"#f8dfcd\" stroke=\"black\" d=\"M756,-68C756,-68 648,-68 648,-68 642,-68 636,-62 636,-56 636,-56 636,-12 636,-12 636,-6 642,0 648,0 648,0 756,0 756,0 762,0 768,-6 768,-12 768,-12 768,-56 768,-56 768,-62 762,-68 756,-68\"/>\n<text text-anchor=\"middle\" x=\"702\" y=\"-52.8\" font-family=\"Helvetica,sans-Serif\" font-size=\"14.00\">gini = 0.489</text>\n<text text-anchor=\"middle\" x=\"702\" y=\"-37.8\" font-family=\"Helvetica,sans-Serif\" font-size=\"14.00\">samples = 2194</text>\n<text text-anchor=\"middle\" x=\"702\" y=\"-22.8\" font-family=\"Helvetica,sans-Serif\" font-size=\"14.00\">value = [1256, 938]</text>\n<text text-anchor=\"middle\" x=\"702\" y=\"-7.8\" font-family=\"Helvetica,sans-Serif\" font-size=\"14.00\">class = não</text>\n</g>\n<!-- 12&#45;&gt;14 -->\n<g id=\"edge14\" class=\"edge\">\n<title>12&#45;&gt;14</title>\n<path fill=\"none\" stroke=\"black\" d=\"M688.19,-103.73C689.86,-95.43 691.62,-86.67 693.3,-78.28\"/>\n<polygon fill=\"black\" stroke=\"black\" points=\"696.77,-78.79 695.31,-68.3 689.91,-77.41 696.77,-78.79\"/>\n</g>\n<!-- 16 -->\n<g id=\"node17\" class=\"node\">\n<title>16</title>\n<path fill=\"#399de5\" stroke=\"black\" d=\"M876,-68C876,-68 798,-68 798,-68 792,-68 786,-62 786,-56 786,-56 786,-12 786,-12 786,-6 792,0 798,0 798,0 876,0 876,0 882,0 888,-6 888,-12 888,-12 888,-56 888,-56 888,-62 882,-68 876,-68\"/>\n<text text-anchor=\"middle\" x=\"837\" y=\"-52.8\" font-family=\"Helvetica,sans-Serif\" font-size=\"14.00\">gini = 0.0</text>\n<text text-anchor=\"middle\" x=\"837\" y=\"-37.8\" font-family=\"Helvetica,sans-Serif\" font-size=\"14.00\">samples = 13</text>\n<text text-anchor=\"middle\" x=\"837\" y=\"-22.8\" font-family=\"Helvetica,sans-Serif\" font-size=\"14.00\">value = [0, 13]</text>\n<text text-anchor=\"middle\" x=\"837\" y=\"-7.8\" font-family=\"Helvetica,sans-Serif\" font-size=\"14.00\">class = sim</text>\n</g>\n<!-- 15&#45;&gt;16 -->\n<g id=\"edge16\" class=\"edge\">\n<title>15&#45;&gt;16</title>\n<path fill=\"none\" stroke=\"black\" d=\"M850.18,-103.73C848.59,-95.43 846.91,-86.67 845.3,-78.28\"/>\n<polygon fill=\"black\" stroke=\"black\" points=\"848.71,-77.46 843.39,-68.3 841.83,-78.78 848.71,-77.46\"/>\n</g>\n<!-- 17 -->\n<g id=\"node18\" class=\"node\">\n<title>17</title>\n<path fill=\"#a6d3f3\" stroke=\"black\" d=\"M1019.5,-68C1019.5,-68 918.5,-68 918.5,-68 912.5,-68 906.5,-62 906.5,-56 906.5,-56 906.5,-12 906.5,-12 906.5,-6 912.5,0 918.5,0 918.5,0 1019.5,0 1019.5,0 1025.5,0 1031.5,-6 1031.5,-12 1031.5,-12 1031.5,-56 1031.5,-56 1031.5,-62 1025.5,-68 1019.5,-68\"/>\n<text text-anchor=\"middle\" x=\"969\" y=\"-52.8\" font-family=\"Helvetica,sans-Serif\" font-size=\"14.00\">gini = 0.458</text>\n<text text-anchor=\"middle\" x=\"969\" y=\"-37.8\" font-family=\"Helvetica,sans-Serif\" font-size=\"14.00\">samples = 411</text>\n<text text-anchor=\"middle\" x=\"969\" y=\"-22.8\" font-family=\"Helvetica,sans-Serif\" font-size=\"14.00\">value = [146, 265]</text>\n<text text-anchor=\"middle\" x=\"969\" y=\"-7.8\" font-family=\"Helvetica,sans-Serif\" font-size=\"14.00\">class = sim</text>\n</g>\n<!-- 15&#45;&gt;17 -->\n<g id=\"edge17\" class=\"edge\">\n<title>15&#45;&gt;17</title>\n<path fill=\"none\" stroke=\"black\" d=\"M899.33,-103.73C908.67,-94.51 918.58,-84.74 927.91,-75.53\"/>\n<polygon fill=\"black\" stroke=\"black\" points=\"930.58,-77.81 935.24,-68.3 925.67,-72.83 930.58,-77.81\"/>\n</g>\n<!-- 19 -->\n<g id=\"node20\" class=\"node\">\n<title>19</title>\n<path fill=\"#e68641\" stroke=\"black\" d=\"M1214,-187C1214,-187 1086,-187 1086,-187 1080,-187 1074,-181 1074,-175 1074,-175 1074,-116 1074,-116 1074,-110 1080,-104 1086,-104 1086,-104 1214,-104 1214,-104 1220,-104 1226,-110 1226,-116 1226,-116 1226,-175 1226,-175 1226,-181 1220,-187 1214,-187\"/>\n<text text-anchor=\"middle\" x=\"1150\" y=\"-171.8\" font-family=\"Helvetica,sans-Serif\" font-size=\"14.00\">idade_modelo &lt;= 13.5</text>\n<text text-anchor=\"middle\" x=\"1150\" y=\"-156.8\" font-family=\"Helvetica,sans-Serif\" font-size=\"14.00\">gini = 0.073</text>\n<text text-anchor=\"middle\" x=\"1150\" y=\"-141.8\" font-family=\"Helvetica,sans-Serif\" font-size=\"14.00\">samples = 1348</text>\n<text text-anchor=\"middle\" x=\"1150\" y=\"-126.8\" font-family=\"Helvetica,sans-Serif\" font-size=\"14.00\">value = [1297, 51]</text>\n<text text-anchor=\"middle\" x=\"1150\" y=\"-111.8\" font-family=\"Helvetica,sans-Serif\" font-size=\"14.00\">class = não</text>\n</g>\n<!-- 18&#45;&gt;19 -->\n<g id=\"edge19\" class=\"edge\">\n<title>18&#45;&gt;19</title>\n<path fill=\"none\" stroke=\"black\" d=\"M1150,-222.91C1150,-214.65 1150,-205.86 1150,-197.3\"/>\n<polygon fill=\"black\" stroke=\"black\" points=\"1153.5,-197.02 1150,-187.02 1146.5,-197.02 1153.5,-197.02\"/>\n</g>\n<!-- 22 -->\n<g id=\"node23\" class=\"node\">\n<title>22</title>\n<path fill=\"#8cc6f0\" stroke=\"black\" d=\"M1458,-187C1458,-187 1302,-187 1302,-187 1296,-187 1290,-181 1290,-175 1290,-175 1290,-116 1290,-116 1290,-110 1296,-104 1302,-104 1302,-104 1458,-104 1458,-104 1464,-104 1470,-110 1470,-116 1470,-116 1470,-175 1470,-175 1470,-181 1464,-187 1458,-187\"/>\n<text text-anchor=\"middle\" x=\"1380\" y=\"-171.8\" font-family=\"Helvetica,sans-Serif\" font-size=\"14.00\">km_por_ano &lt;= 49872.643</text>\n<text text-anchor=\"middle\" x=\"1380\" y=\"-156.8\" font-family=\"Helvetica,sans-Serif\" font-size=\"14.00\">gini = 0.417</text>\n<text text-anchor=\"middle\" x=\"1380\" y=\"-141.8\" font-family=\"Helvetica,sans-Serif\" font-size=\"14.00\">samples = 250</text>\n<text text-anchor=\"middle\" x=\"1380\" y=\"-126.8\" font-family=\"Helvetica,sans-Serif\" font-size=\"14.00\">value = [74, 176]</text>\n<text text-anchor=\"middle\" x=\"1380\" y=\"-111.8\" font-family=\"Helvetica,sans-Serif\" font-size=\"14.00\">class = sim</text>\n</g>\n<!-- 18&#45;&gt;22 -->\n<g id=\"edge22\" class=\"edge\">\n<title>18&#45;&gt;22</title>\n<path fill=\"none\" stroke=\"black\" d=\"M1223.09,-226.32C1244.71,-215.32 1268.62,-203.16 1291.12,-191.71\"/>\n<polygon fill=\"black\" stroke=\"black\" points=\"1293,-194.68 1300.33,-187.03 1289.83,-188.44 1293,-194.68\"/>\n</g>\n<!-- 20 -->\n<g id=\"node21\" class=\"node\">\n<title>20</title>\n<path fill=\"#e5823b\" stroke=\"black\" d=\"M1148,-68C1148,-68 1062,-68 1062,-68 1056,-68 1050,-62 1050,-56 1050,-56 1050,-12 1050,-12 1050,-6 1056,0 1062,0 1062,0 1148,0 1148,0 1154,0 1160,-6 1160,-12 1160,-12 1160,-56 1160,-56 1160,-62 1154,-68 1148,-68\"/>\n<text text-anchor=\"middle\" x=\"1105\" y=\"-52.8\" font-family=\"Helvetica,sans-Serif\" font-size=\"14.00\">gini = 0.023</text>\n<text text-anchor=\"middle\" x=\"1105\" y=\"-37.8\" font-family=\"Helvetica,sans-Serif\" font-size=\"14.00\">samples = 175</text>\n<text text-anchor=\"middle\" x=\"1105\" y=\"-22.8\" font-family=\"Helvetica,sans-Serif\" font-size=\"14.00\">value = [173, 2]</text>\n<text text-anchor=\"middle\" x=\"1105\" y=\"-7.8\" font-family=\"Helvetica,sans-Serif\" font-size=\"14.00\">class = não</text>\n</g>\n<!-- 19&#45;&gt;20 -->\n<g id=\"edge20\" class=\"edge\">\n<title>19&#45;&gt;20</title>\n<path fill=\"none\" stroke=\"black\" d=\"M1133.24,-103.73C1129.76,-95.24 1126.07,-86.28 1122.56,-77.73\"/>\n<polygon fill=\"black\" stroke=\"black\" points=\"1125.72,-76.22 1118.68,-68.3 1119.25,-78.88 1125.72,-76.22\"/>\n</g>\n<!-- 21 -->\n<g id=\"node22\" class=\"node\">\n<title>21</title>\n<path fill=\"#e68642\" stroke=\"black\" d=\"M1291.5,-68C1291.5,-68 1190.5,-68 1190.5,-68 1184.5,-68 1178.5,-62 1178.5,-56 1178.5,-56 1178.5,-12 1178.5,-12 1178.5,-6 1184.5,0 1190.5,0 1190.5,0 1291.5,0 1291.5,0 1297.5,0 1303.5,-6 1303.5,-12 1303.5,-12 1303.5,-56 1303.5,-56 1303.5,-62 1297.5,-68 1291.5,-68\"/>\n<text text-anchor=\"middle\" x=\"1241\" y=\"-52.8\" font-family=\"Helvetica,sans-Serif\" font-size=\"14.00\">gini = 0.08</text>\n<text text-anchor=\"middle\" x=\"1241\" y=\"-37.8\" font-family=\"Helvetica,sans-Serif\" font-size=\"14.00\">samples = 1173</text>\n<text text-anchor=\"middle\" x=\"1241\" y=\"-22.8\" font-family=\"Helvetica,sans-Serif\" font-size=\"14.00\">value = [1124, 49]</text>\n<text text-anchor=\"middle\" x=\"1241\" y=\"-7.8\" font-family=\"Helvetica,sans-Serif\" font-size=\"14.00\">class = não</text>\n</g>\n<!-- 19&#45;&gt;21 -->\n<g id=\"edge21\" class=\"edge\">\n<title>19&#45;&gt;21</title>\n<path fill=\"none\" stroke=\"black\" d=\"M1183.89,-103.73C1191.39,-94.7 1199.34,-85.12 1206.86,-76.08\"/>\n<polygon fill=\"black\" stroke=\"black\" points=\"1209.63,-78.23 1213.33,-68.3 1204.24,-73.75 1209.63,-78.23\"/>\n</g>\n<!-- 23 -->\n<g id=\"node24\" class=\"node\">\n<title>23</title>\n<path fill=\"#8ac5f0\" stroke=\"black\" d=\"M1426.5,-68C1426.5,-68 1333.5,-68 1333.5,-68 1327.5,-68 1321.5,-62 1321.5,-56 1321.5,-56 1321.5,-12 1321.5,-12 1321.5,-6 1327.5,0 1333.5,0 1333.5,0 1426.5,0 1426.5,0 1432.5,0 1438.5,-6 1438.5,-12 1438.5,-12 1438.5,-56 1438.5,-56 1438.5,-62 1432.5,-68 1426.5,-68\"/>\n<text text-anchor=\"middle\" x=\"1380\" y=\"-52.8\" font-family=\"Helvetica,sans-Serif\" font-size=\"14.00\">gini = 0.412</text>\n<text text-anchor=\"middle\" x=\"1380\" y=\"-37.8\" font-family=\"Helvetica,sans-Serif\" font-size=\"14.00\">samples = 248</text>\n<text text-anchor=\"middle\" x=\"1380\" y=\"-22.8\" font-family=\"Helvetica,sans-Serif\" font-size=\"14.00\">value = [72, 176]</text>\n<text text-anchor=\"middle\" x=\"1380\" y=\"-7.8\" font-family=\"Helvetica,sans-Serif\" font-size=\"14.00\">class = sim</text>\n</g>\n<!-- 22&#45;&gt;23 -->\n<g id=\"edge23\" class=\"edge\">\n<title>22&#45;&gt;23</title>\n<path fill=\"none\" stroke=\"black\" d=\"M1380,-103.73C1380,-95.52 1380,-86.86 1380,-78.56\"/>\n<polygon fill=\"black\" stroke=\"black\" points=\"1383.5,-78.3 1380,-68.3 1376.5,-78.3 1383.5,-78.3\"/>\n</g>\n<!-- 24 -->\n<g id=\"node25\" class=\"node\">\n<title>24</title>\n<path fill=\"#e58139\" stroke=\"black\" d=\"M1539.5,-68C1539.5,-68 1468.5,-68 1468.5,-68 1462.5,-68 1456.5,-62 1456.5,-56 1456.5,-56 1456.5,-12 1456.5,-12 1456.5,-6 1462.5,0 1468.5,0 1468.5,0 1539.5,0 1539.5,0 1545.5,0 1551.5,-6 1551.5,-12 1551.5,-12 1551.5,-56 1551.5,-56 1551.5,-62 1545.5,-68 1539.5,-68\"/>\n<text text-anchor=\"middle\" x=\"1504\" y=\"-52.8\" font-family=\"Helvetica,sans-Serif\" font-size=\"14.00\">gini = 0.0</text>\n<text text-anchor=\"middle\" x=\"1504\" y=\"-37.8\" font-family=\"Helvetica,sans-Serif\" font-size=\"14.00\">samples = 2</text>\n<text text-anchor=\"middle\" x=\"1504\" y=\"-22.8\" font-family=\"Helvetica,sans-Serif\" font-size=\"14.00\">value = [2, 0]</text>\n<text text-anchor=\"middle\" x=\"1504\" y=\"-7.8\" font-family=\"Helvetica,sans-Serif\" font-size=\"14.00\">class = não</text>\n</g>\n<!-- 22&#45;&gt;24 -->\n<g id=\"edge24\" class=\"edge\">\n<title>22&#45;&gt;24</title>\n<path fill=\"none\" stroke=\"black\" d=\"M1426.17,-103.73C1436.81,-94.33 1448.12,-84.35 1458.72,-74.99\"/>\n<polygon fill=\"black\" stroke=\"black\" points=\"1461.11,-77.54 1466.29,-68.3 1456.48,-72.3 1461.11,-77.54\"/>\n</g>\n</g>\n</svg>\n"
          },
          "metadata": {},
          "execution_count": 72
        }
      ]
    },
    {
      "cell_type": "code",
      "source": [],
      "metadata": {
        "id": "uObHEzFNzkFw"
      },
      "execution_count": null,
      "outputs": []
    }
  ]
}